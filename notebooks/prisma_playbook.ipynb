{
 "cells": [
  {
   "cell_type": "code",
   "execution_count": 11,
   "metadata": {},
   "outputs": [],
   "source": [
    "import asyncio\n",
    "from prisma import Prisma\n",
    "from prisma.models import User, Post"
   ]
  },
  {
   "cell_type": "code",
   "execution_count": 2,
   "metadata": {},
   "outputs": [],
   "source": [
    "#create new user\n",
    "db = Prisma(auto_register=True)\n",
    "await db.connect()\n",
    "\n",
    "# write your queries here\n",
    "user = await User.prisma().create(\n",
    "    data={\n",
    "        'name': 'Yannick',\n",
    "        'email': 'mymail@test.de',\n",
    "    }\n",
    ")\n",
    "\n",
    "await db.disconnect()"
   ]
  },
  {
   "cell_type": "code",
   "execution_count": 4,
   "metadata": {},
   "outputs": [
    {
     "data": {
      "text/plain": [
       "[User(id=1, email='test', name='Robert', posts=None),\n",
       " User(id=2, email='mymail@test.de', name='Yannick', posts=None)]"
      ]
     },
     "execution_count": 4,
     "metadata": {},
     "output_type": "execute_result"
    }
   ],
   "source": [
    "#get Users\n",
    "await db.connect()\n",
    "users = await db.user.find_many()\n",
    "users"
   ]
  },
  {
   "cell_type": "code",
   "execution_count": 8,
   "metadata": {},
   "outputs": [
    {
     "data": {
      "text/plain": [
       "[User(id=1, email='test', name='Robert', posts=None),\n",
       " User(id=2, email='mymail@test.de', name='Yannick', posts=None)]"
      ]
     },
     "execution_count": 8,
     "metadata": {},
     "output_type": "execute_result"
    }
   ],
   "source": [
    "users = await User.prisma().find_many()\n",
    "users"
   ]
  },
  {
   "cell_type": "code",
   "execution_count": 10,
   "metadata": {},
   "outputs": [
    {
     "data": {
      "text/plain": [
       "[User(id=1, email='test', name='Robert', posts=[]),\n",
       " User(id=2, email='mymail@test.de', name='Yannick', posts=[])]"
      ]
     },
     "execution_count": 10,
     "metadata": {},
     "output_type": "execute_result"
    }
   ],
   "source": [
    "users = await User.prisma().find_many(\n",
    "    include={\n",
    "        'posts': True,\n",
    "    },\n",
    ")\n",
    "users"
   ]
  },
  {
   "cell_type": "code",
   "execution_count": 14,
   "metadata": {},
   "outputs": [
    {
     "data": {
      "text/plain": [
       "[]"
      ]
     },
     "execution_count": 14,
     "metadata": {},
     "output_type": "execute_result"
    }
   ],
   "source": [
    "#Retrieve all Post records that contain \"prisma\"\n",
    "posts = await Post.prisma().find_many(\n",
    "    where={\n",
    "        'OR': [\n",
    "            {'title': {'contains': 'prisma'}},\n",
    "            {'content': {'contains': 'prisma'}},\n",
    "        ]\n",
    "    }\n",
    ")\n",
    "posts"
   ]
  },
  {
   "cell_type": "code",
   "execution_count": 15,
   "metadata": {},
   "outputs": [],
   "source": [
    "#create a new Post\n",
    "post = await Post.prisma().create(\n",
    "    data={\n",
    "        'title': 'My first post',\n",
    "        'content': 'This is my very first post',\n",
    "        'published': True,\n",
    "        'author': {\n",
    "            'connect': {\n",
    "                'id': 1,\n",
    "            }\n",
    "        }\n",
    "    }\n",
    ")"
   ]
  },
  {
   "cell_type": "code",
   "execution_count": 17,
   "metadata": {},
   "outputs": [
    {
     "ename": "FieldNotFoundError",
     "evalue": "Failed to validate the query: `Unable to match input value to any allowed input type for the field. Parse errors: [Query parsing/validation error at `Mutation.createOnePost.data.PostCreateInput.author.UserCreateNestedOneWithoutPostsInput.connect.UserWhereUniqueInput.name`: Field does not exist on enclosing type., Query parsing/validation error at `Mutation.createOnePost.data.PostUncheckedCreateInput.author`: Field does not exist on enclosing type.]` at `Mutation.createOnePost.data`",
     "output_type": "error",
     "traceback": [
      "\u001b[0;31m---------------------------------------------------------------------------\u001b[0m",
      "\u001b[0;31mFieldNotFoundError\u001b[0m                        Traceback (most recent call last)",
      "Cell \u001b[0;32mIn [17], line 2\u001b[0m\n\u001b[1;32m      1\u001b[0m \u001b[38;5;66;03m#create a new Post where the Author is the User named Yannick\u001b[39;00m\n\u001b[0;32m----> 2\u001b[0m post \u001b[38;5;241m=\u001b[39m \u001b[38;5;28;01mawait\u001b[39;00m Post\u001b[38;5;241m.\u001b[39mprisma()\u001b[38;5;241m.\u001b[39mcreate(\n\u001b[1;32m      3\u001b[0m     data\u001b[38;5;241m=\u001b[39m{\n\u001b[1;32m      4\u001b[0m         \u001b[38;5;124m'\u001b[39m\u001b[38;5;124mtitle\u001b[39m\u001b[38;5;124m'\u001b[39m: \u001b[38;5;124m'\u001b[39m\u001b[38;5;124mMy second post\u001b[39m\u001b[38;5;124m'\u001b[39m,\n\u001b[1;32m      5\u001b[0m         \u001b[38;5;124m'\u001b[39m\u001b[38;5;124mcontent\u001b[39m\u001b[38;5;124m'\u001b[39m: \u001b[38;5;124m'\u001b[39m\u001b[38;5;124mThis is my second post\u001b[39m\u001b[38;5;124m'\u001b[39m,\n\u001b[1;32m      6\u001b[0m         \u001b[38;5;124m'\u001b[39m\u001b[38;5;124mpublished\u001b[39m\u001b[38;5;124m'\u001b[39m: \u001b[38;5;28;01mTrue\u001b[39;00m,\n\u001b[1;32m      7\u001b[0m         \u001b[38;5;124m'\u001b[39m\u001b[38;5;124mauthor\u001b[39m\u001b[38;5;124m'\u001b[39m: {\n\u001b[1;32m      8\u001b[0m             \u001b[38;5;124m'\u001b[39m\u001b[38;5;124mconnect\u001b[39m\u001b[38;5;124m'\u001b[39m: {\n\u001b[1;32m      9\u001b[0m                 \u001b[38;5;124m'\u001b[39m\u001b[38;5;124mname\u001b[39m\u001b[38;5;124m'\u001b[39m: \u001b[38;5;124m'\u001b[39m\u001b[38;5;124mYannick\u001b[39m\u001b[38;5;124m'\u001b[39m,\n\u001b[1;32m     10\u001b[0m             }\n\u001b[1;32m     11\u001b[0m         }\n\u001b[1;32m     12\u001b[0m     }\n\u001b[1;32m     13\u001b[0m )\n",
      "File \u001b[0;32m~/Github/PythonPrisma_DatabaseMigration/.venv/lib/python3.9/site-packages/prisma/actions.py:169\u001b[0m, in \u001b[0;36mPostActions.create\u001b[0;34m(self, data, include)\u001b[0m\n\u001b[1;32m    131\u001b[0m \u001b[39masync\u001b[39;00m \u001b[39mdef\u001b[39;00m \u001b[39mcreate\u001b[39m(\n\u001b[1;32m    132\u001b[0m     \u001b[39mself\u001b[39m,\n\u001b[1;32m    133\u001b[0m     data: types\u001b[39m.\u001b[39mPostCreateInput,\n\u001b[1;32m    134\u001b[0m     include: Optional[types\u001b[39m.\u001b[39mPostInclude] \u001b[39m=\u001b[39m \u001b[39mNone\u001b[39;00m\n\u001b[1;32m    135\u001b[0m ) \u001b[39m-\u001b[39m\u001b[39m>\u001b[39m \u001b[39m'\u001b[39m\u001b[39mmodels.Post\u001b[39m\u001b[39m'\u001b[39m:\n\u001b[1;32m    136\u001b[0m     \u001b[39m\"\"\"Create a new Post record.\u001b[39;00m\n\u001b[1;32m    137\u001b[0m \n\u001b[1;32m    138\u001b[0m \u001b[39m    Parameters\u001b[39;00m\n\u001b[0;32m   (...)\u001b[0m\n\u001b[1;32m    167\u001b[0m \u001b[39m    ```\u001b[39;00m\n\u001b[1;32m    168\u001b[0m \u001b[39m    \"\"\"\u001b[39;00m\n\u001b[0;32m--> 169\u001b[0m     resp \u001b[39m=\u001b[39m \u001b[39mawait\u001b[39;00m \u001b[39mself\u001b[39m\u001b[39m.\u001b[39m_client\u001b[39m.\u001b[39m_execute(\n\u001b[1;32m    170\u001b[0m         operation\u001b[39m=\u001b[39m\u001b[39m'\u001b[39m\u001b[39mmutation\u001b[39m\u001b[39m'\u001b[39m,\n\u001b[1;32m    171\u001b[0m         method\u001b[39m=\u001b[39m\u001b[39m'\u001b[39m\u001b[39mcreateOne\u001b[39m\u001b[39m'\u001b[39m,\n\u001b[1;32m    172\u001b[0m         model\u001b[39m=\u001b[39m\u001b[39m'\u001b[39m\u001b[39mPost\u001b[39m\u001b[39m'\u001b[39m,\n\u001b[1;32m    173\u001b[0m         arguments\u001b[39m=\u001b[39m{\n\u001b[1;32m    174\u001b[0m             \u001b[39m'\u001b[39m\u001b[39mdata\u001b[39m\u001b[39m'\u001b[39m: data,\n\u001b[1;32m    175\u001b[0m             \u001b[39m'\u001b[39m\u001b[39minclude\u001b[39m\u001b[39m'\u001b[39m: include,\n\u001b[1;32m    176\u001b[0m         },\n\u001b[1;32m    177\u001b[0m     )\n\u001b[1;32m    178\u001b[0m     \u001b[39mreturn\u001b[39;00m \u001b[39mself\u001b[39m\u001b[39m.\u001b[39m_model\u001b[39m.\u001b[39mparse_obj(resp[\u001b[39m'\u001b[39m\u001b[39mdata\u001b[39m\u001b[39m'\u001b[39m][\u001b[39m'\u001b[39m\u001b[39mresult\u001b[39m\u001b[39m'\u001b[39m])\n",
      "File \u001b[0;32m~/Github/PythonPrisma_DatabaseMigration/.venv/lib/python3.9/site-packages/prisma/client.py:338\u001b[0m, in \u001b[0;36mPrisma._execute\u001b[0;34m(self, method, operation, arguments, model, root_selection)\u001b[0m\n\u001b[1;32m    323\u001b[0m \u001b[39masync\u001b[39;00m \u001b[39mdef\u001b[39;00m \u001b[39m_execute\u001b[39m(\n\u001b[1;32m    324\u001b[0m     \u001b[39mself\u001b[39m,\n\u001b[1;32m    325\u001b[0m     method: \u001b[39mstr\u001b[39m,\n\u001b[0;32m   (...)\u001b[0m\n\u001b[1;32m    329\u001b[0m     root_selection: Optional[List[\u001b[39mstr\u001b[39m]] \u001b[39m=\u001b[39m \u001b[39mNone\u001b[39;00m\n\u001b[1;32m    330\u001b[0m ) \u001b[39m-\u001b[39m\u001b[39m>\u001b[39m Any:\n\u001b[1;32m    331\u001b[0m     builder \u001b[39m=\u001b[39m QueryBuilder(\n\u001b[1;32m    332\u001b[0m         operation\u001b[39m=\u001b[39moperation,\n\u001b[1;32m    333\u001b[0m         method\u001b[39m=\u001b[39mmethod,\n\u001b[0;32m   (...)\u001b[0m\n\u001b[1;32m    336\u001b[0m         root_selection\u001b[39m=\u001b[39mroot_selection,\n\u001b[1;32m    337\u001b[0m     )\n\u001b[0;32m--> 338\u001b[0m     \u001b[39mreturn\u001b[39;00m \u001b[39mawait\u001b[39;00m \u001b[39mself\u001b[39m\u001b[39m.\u001b[39m_engine\u001b[39m.\u001b[39mquery(builder\u001b[39m.\u001b[39mbuild())\n",
      "File \u001b[0;32m~/Github/PythonPrisma_DatabaseMigration/.venv/lib/python3.9/site-packages/prisma/engine/query.py:185\u001b[0m, in \u001b[0;36mQueryEngine.query\u001b[0;34m(self, content)\u001b[0m\n\u001b[1;32m    184\u001b[0m \u001b[39masync\u001b[39;00m \u001b[39mdef\u001b[39;00m \u001b[39mquery\u001b[39m(\u001b[39mself\u001b[39m, content: \u001b[39mstr\u001b[39m) \u001b[39m-\u001b[39m\u001b[39m>\u001b[39m Any:\n\u001b[0;32m--> 185\u001b[0m     \u001b[39mreturn\u001b[39;00m \u001b[39mawait\u001b[39;00m \u001b[39mself\u001b[39m\u001b[39m.\u001b[39mrequest(\u001b[39m'\u001b[39m\u001b[39mPOST\u001b[39m\u001b[39m'\u001b[39m, \u001b[39m'\u001b[39m\u001b[39m/\u001b[39m\u001b[39m'\u001b[39m, content\u001b[39m=\u001b[39mcontent)\n",
      "File \u001b[0;32m~/Github/PythonPrisma_DatabaseMigration/.venv/lib/python3.9/site-packages/prisma/engine/http.py:104\u001b[0m, in \u001b[0;36mHTTPEngine.request\u001b[0;34m(self, method, path, content)\u001b[0m\n\u001b[1;32m    102\u001b[0m     errors_data \u001b[39m=\u001b[39m response\u001b[39m.\u001b[39mget(\u001b[39m'\u001b[39m\u001b[39merrors\u001b[39m\u001b[39m'\u001b[39m)\n\u001b[1;32m    103\u001b[0m     \u001b[39mif\u001b[39;00m errors_data:\n\u001b[0;32m--> 104\u001b[0m         \u001b[39mreturn\u001b[39;00m utils\u001b[39m.\u001b[39;49mhandle_response_errors(resp, errors_data)\n\u001b[1;32m    106\u001b[0m     \u001b[39mreturn\u001b[39;00m response\n\u001b[1;32m    108\u001b[0m \u001b[39mif\u001b[39;00m resp\u001b[39m.\u001b[39mstatus \u001b[39m==\u001b[39m \u001b[39m422\u001b[39m:\n",
      "File \u001b[0;32m~/Github/PythonPrisma_DatabaseMigration/.venv/lib/python3.9/site-packages/prisma/engine/utils.py:122\u001b[0m, in \u001b[0;36mhandle_response_errors\u001b[0;34m(resp, data)\u001b[0m\n\u001b[1;32m    120\u001b[0m     exc \u001b[39m=\u001b[39m ERROR_MAPPING\u001b[39m.\u001b[39mget(code)\n\u001b[1;32m    121\u001b[0m     \u001b[39mif\u001b[39;00m exc \u001b[39mis\u001b[39;00m \u001b[39mnot\u001b[39;00m \u001b[39mNone\u001b[39;00m:\n\u001b[0;32m--> 122\u001b[0m         \u001b[39mraise\u001b[39;00m exc(error)\n\u001b[1;32m    123\u001b[0m \u001b[39mexcept\u001b[39;00m (\u001b[39mKeyError\u001b[39;00m, \u001b[39mTypeError\u001b[39;00m):\n\u001b[1;32m    124\u001b[0m     \u001b[39mcontinue\u001b[39;00m\n",
      "\u001b[0;31mFieldNotFoundError\u001b[0m: Failed to validate the query: `Unable to match input value to any allowed input type for the field. Parse errors: [Query parsing/validation error at `Mutation.createOnePost.data.PostCreateInput.author.UserCreateNestedOneWithoutPostsInput.connect.UserWhereUniqueInput.name`: Field does not exist on enclosing type., Query parsing/validation error at `Mutation.createOnePost.data.PostUncheckedCreateInput.author`: Field does not exist on enclosing type.]` at `Mutation.createOnePost.data`"
     ]
    }
   ],
   "source": [
    "#create a new Post where the Author is the User named Yannick\n",
    "post = await Post.prisma().create(\n",
    "    data={\n",
    "        'title': 'My second post',\n",
    "        'content': 'This is my second post',\n",
    "        'published': True,\n",
    "        'author': {\n",
    "            'connect': {\n",
    "                'name': 'Yannick',\n",
    "            }\n",
    "        }\n",
    "    }\n",
    ")"
   ]
  }
 ],
 "metadata": {
  "kernelspec": {
   "display_name": "Python 3.9.13 ('.venv': poetry)",
   "language": "python",
   "name": "python3"
  },
  "language_info": {
   "codemirror_mode": {
    "name": "ipython",
    "version": 3
   },
   "file_extension": ".py",
   "mimetype": "text/x-python",
   "name": "python",
   "nbconvert_exporter": "python",
   "pygments_lexer": "ipython3",
   "version": "3.9.13"
  },
  "orig_nbformat": 4,
  "vscode": {
   "interpreter": {
    "hash": "34783528ecd3218f98979e247479c410d641128148b0b747fc18990129fe99ea"
   }
  }
 },
 "nbformat": 4,
 "nbformat_minor": 2
}
